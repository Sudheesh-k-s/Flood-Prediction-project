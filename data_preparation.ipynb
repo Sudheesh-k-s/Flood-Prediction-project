{
 "cells": [
  {
   "cell_type": "code",
   "execution_count": null,
   "id": "5d686973",
   "metadata": {
    "lines_to_next_cell": 1
   },
   "outputs": [],
   "source": [
    "import pandas as pd\n",
    "import numpy as np\n",
    "from sklearn.model_selection import train_test_split\n",
    "from sklearn.preprocessing import StandardScaler"
   ]
  },
  {
   "cell_type": "code",
   "execution_count": null,
   "id": "982ea073",
   "metadata": {},
   "outputs": [],
   "source": [
    "def main():\n",
    "    print(\"Data Preprocessing:\")\n",
    "    \n",
    "    # Load the raw data\n",
    "    data = pd.read_csv('flood_risk_dataset_india.csv') \n",
    "    print(f\"   Loaded data shape: {data.shape}\")\n",
    "\n",
    "    print(\"Checked for any missing values and there were no missing values.\")\n",
    "\n",
    "    # Separate features and target\n",
    "    X = data.drop('Flood Occurred', axis=1)  \n",
    "    y = data['Flood Occurred']               \n",
    "   \n",
    "  \n",
    "\n",
    "  # Remove categorical columns before scaling\n",
    "    categorical_cols = X.select_dtypes(include=['object']).columns\n",
    "    X_numeric = X.drop(columns=categorical_cols)\n",
    "\n",
    "  # Split the data using X_numeric\n",
    "    X_train, X_test, y_train, y_test = train_test_split(\n",
    "    X_numeric, y, test_size=0.2, random_state=42, stratify=y)\n",
    "\n",
    "  # Scaling the numerical features \n",
    "    scaler = StandardScaler()\n",
    "    X_train_scaled = scaler.fit_transform(X_train)\n",
    "    X_test_scaled = scaler.transform(X_test)\n",
    "\n",
    "  # Converting back to DataFrames\n",
    "    X_train_scaled = pd.DataFrame(X_train_scaled, columns=X_train.columns)\n",
    "    X_test_scaled = pd.DataFrame(X_test_scaled, columns=X_test.columns)\n",
    "\n",
    "\n",
    "    #  Save the processed data\n",
    "    X_train_scaled.to_csv('X_train_scaled.csv', index=False)\n",
    "    X_test_scaled.to_csv('X_test_scaled.csv', index=False)\n",
    "    y_train.to_csv('y_train.csv', index=False)\n",
    "    y_test.to_csv('y_test.csv', index=False)\n",
    "    print(\"   Saved scaled datasets to CSV.\")\n",
    "\n",
    "    print(\"\\n Preprocessing complete.\")"
   ]
  },
  {
   "cell_type": "code",
   "execution_count": null,
   "id": "7bf376a0",
   "metadata": {},
   "outputs": [],
   "source": [
    "if __name__ == \"__main__\":\n",
    "    main()"
   ]
  }
 ],
 "metadata": {
  "jupytext": {
   "cell_metadata_filter": "-all",
   "main_language": "python",
   "notebook_metadata_filter": "-all"
  }
 },
 "nbformat": 4,
 "nbformat_minor": 5
}
