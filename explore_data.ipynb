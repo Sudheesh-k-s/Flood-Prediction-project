{
 "cells": [
  {
   "cell_type": "code",
   "execution_count": null,
   "id": "f173b936",
   "metadata": {},
   "outputs": [],
   "source": [
    "# performs basic exploratory data analysis (EDA) on the flood dataset\n",
    "import pandas as pd\n",
    "import matplotlib.pyplot as plt\n",
    "import seaborn as sns "
   ]
  },
  {
   "cell_type": "code",
   "execution_count": null,
   "id": "f8dccfed",
   "metadata": {
    "lines_to_next_cell": 2
   },
   "outputs": [],
   "source": [
    "# Load the dataset\n",
    "print(\"Loading the data and performing EDA.\")\n",
    "data = pd.read_csv('flood_risk_dataset_india.csv') "
   ]
  },
  {
   "cell_type": "code",
   "execution_count": null,
   "id": "363c1ff5",
   "metadata": {},
   "outputs": [],
   "source": [
    "print(\"1. Dataset Shape (Rows, Columns):\", data.shape)\n",
    "print(\"\\n2. Column Data Types:\")\n",
    "print(data.dtypes)\n",
    "print(\"\\n3. First 5 rows:\")\n",
    "print(data.head())"
   ]
  },
  {
   "cell_type": "markdown",
   "id": "925a9630",
   "metadata": {},
   "source": [
    " Checking for missing values"
   ]
  },
  {
   "cell_type": "code",
   "execution_count": null,
   "id": "80c0fef9",
   "metadata": {},
   "outputs": [],
   "source": [
    "print(\"\\n4. Missing Values:\")\n",
    "print(data.isnull().sum())"
   ]
  },
  {
   "cell_type": "code",
   "execution_count": null,
   "id": "24eebbcd",
   "metadata": {},
   "outputs": [],
   "source": [
    "# 3. Analyze the Target Variable\n",
    "print(\"\\n5. Distribution of Target Variable ('Flood'):\")\n",
    "target_counts = data['Flood Occurred'].value_counts() \n",
    "print(target_counts)"
   ]
  },
  {
   "cell_type": "code",
   "execution_count": null,
   "id": "ba0cb12e",
   "metadata": {},
   "outputs": [],
   "source": [
    "# Plot the distribution\n",
    "plt.figure(figsize=(8, 5))\n",
    "sns.barplot(x=target_counts.index, y=target_counts.values)\n",
    "plt.title('Flood vs No-Flood Events in Dataset')\n",
    "plt.xlabel('Flood Occurred (1=Yes, 0=No)')\n",
    "plt.ylabel('Count')\n",
    "plt.savefig('target_distribution.png') \n",
    "plt.show()"
   ]
  },
  {
   "cell_type": "code",
   "execution_count": null,
   "id": "4df04838",
   "metadata": {
    "lines_to_next_cell": 2
   },
   "outputs": [],
   "source": [
    "#  Check Data Distributions for Numerical Features\n",
    "print(\"\\n6. Generating distribution plots for numerical features..\")"
   ]
  },
  {
   "cell_type": "code",
   "execution_count": null,
   "id": "2bf56a42",
   "metadata": {},
   "outputs": [],
   "source": [
    "numerical_features = data.select_dtypes(include=['float64', 'int64']).columns\n",
    "numerical_features = numerical_features.drop('Flood Occurred')"
   ]
  },
  {
   "cell_type": "code",
   "execution_count": null,
   "id": "1b8863c3",
   "metadata": {},
   "outputs": [],
   "source": [
    "# Clean numerical features\n",
    "for feature in numerical_features:\n",
    "    data[feature] = pd.to_numeric(data[feature], errors='coerce')"
   ]
  },
  {
   "cell_type": "code",
   "execution_count": null,
   "id": "bdd3528c",
   "metadata": {},
   "outputs": [],
   "source": [
    "data = data.dropna(subset=numerical_features)"
   ]
  },
  {
   "cell_type": "code",
   "execution_count": null,
   "id": "cd874609",
   "metadata": {},
   "outputs": [],
   "source": [
    "import re"
   ]
  },
  {
   "cell_type": "code",
   "execution_count": null,
   "id": "b4dd088a",
   "metadata": {},
   "outputs": [],
   "source": [
    "for feature in numerical_features:\n",
    "    plt.figure(figsize=(8, 5))\n",
    "    sns.histplot(data[feature], kde=True) \n",
    "    plt.title(f'Distribution of {feature}')\n",
    "    safe_feature = re.sub(r'[^a-zA-Z0-9]', '_', feature)\n",
    "    plt.savefig(f'dist_{safe_feature}.png') \n",
    "    plt.show()"
   ]
  },
  {
   "cell_type": "code",
   "execution_count": null,
   "id": "81959363",
   "metadata": {},
   "outputs": [],
   "source": [
    "# Correlation Heatmap \n",
    "print(\"\\n7. Generating Correlation Heatmap.\")\n",
    "plt.figure(figsize=(12, 8))\n",
    "numeric_data = data.select_dtypes(include=['float64', 'int64'])\n",
    "correlation_matrix = numeric_data.corr()"
   ]
  },
  {
   "cell_type": "code",
   "execution_count": null,
   "id": "7baf0d96",
   "metadata": {},
   "outputs": [],
   "source": [
    "# Creating a heatmap\n",
    "sns.heatmap(correlation_matrix,\n",
    "            annot=True, \n",
    "            cmap='coolwarm', \n",
    "            center=0) "
   ]
  },
  {
   "cell_type": "code",
   "execution_count": null,
   "id": "b0176d91",
   "metadata": {
    "lines_to_next_cell": 2
   },
   "outputs": [],
   "source": [
    "plt.title('Feature Correlation Heatmap')\n",
    "plt.tight_layout()\n",
    "plt.savefig('correlation_heatmap.png', dpi=100) \n",
    "plt.show()"
   ]
  },
  {
   "cell_type": "code",
   "execution_count": null,
   "id": "b8c752ea",
   "metadata": {},
   "outputs": [],
   "source": [
    "print(\"\\nEDA Completed.\")"
   ]
  }
 ],
 "metadata": {
  "jupytext": {
   "cell_metadata_filter": "-all",
   "main_language": "python",
   "notebook_metadata_filter": "-all"
  }
 },
 "nbformat": 4,
 "nbformat_minor": 5
}
